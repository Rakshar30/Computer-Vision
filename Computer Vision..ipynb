{
 "cells": [
  {
   "cell_type": "code",
   "execution_count": 1,
   "id": "9f60c0bf-c3fa-4a14-a714-a619f80c7d7c",
   "metadata": {},
   "outputs": [
    {
     "ename": "error",
     "evalue": "OpenCV(4.11.0) D:\\a\\opencv-python\\opencv-python\\opencv\\modules\\highgui\\src\\window_w32.cpp:2564: error: (-27:Null pointer) NULL window: 'Adjustments' in function 'cvGetTrackbarPos'\n",
     "output_type": "error",
     "traceback": [
      "\u001b[31m---------------------------------------------------------------------------\u001b[39m",
      "\u001b[31merror\u001b[39m                                     Traceback (most recent call last)",
      "\u001b[36mCell\u001b[39m\u001b[36m \u001b[39m\u001b[32mIn[1]\u001b[39m\u001b[32m, line 18\u001b[39m\n\u001b[32m     14\u001b[39m cv2.createTrackbar(\u001b[33m'\u001b[39m\u001b[33mBrightness\u001b[39m\u001b[33m'\u001b[39m, \u001b[33m'\u001b[39m\u001b[33mAdjustments\u001b[39m\u001b[33m'\u001b[39m, \u001b[32m100\u001b[39m, \u001b[32m200\u001b[39m, \u001b[38;5;28;01mlambda\u001b[39;00m x: \u001b[38;5;28;01mNone\u001b[39;00m)  \u001b[38;5;66;03m# -100 to +100\u001b[39;00m\n\u001b[32m     16\u001b[39m \u001b[38;5;28;01mwhile\u001b[39;00m \u001b[38;5;28;01mTrue\u001b[39;00m:\n\u001b[32m     17\u001b[39m     \u001b[38;5;66;03m# Get current positions of the trackbars\u001b[39;00m\n\u001b[32m---> \u001b[39m\u001b[32m18\u001b[39m     contrast_value = \u001b[43mcv2\u001b[49m\u001b[43m.\u001b[49m\u001b[43mgetTrackbarPos\u001b[49m\u001b[43m(\u001b[49m\u001b[33;43m'\u001b[39;49m\u001b[33;43mContrast x10\u001b[39;49m\u001b[33;43m'\u001b[39;49m\u001b[43m,\u001b[49m\u001b[43m \u001b[49m\u001b[33;43m'\u001b[39;49m\u001b[33;43mAdjustments\u001b[39;49m\u001b[33;43m'\u001b[39;49m\u001b[43m)\u001b[49m\n\u001b[32m     19\u001b[39m     brightness_value = cv2.getTrackbarPos(\u001b[33m'\u001b[39m\u001b[33mBrightness\u001b[39m\u001b[33m'\u001b[39m, \u001b[33m'\u001b[39m\u001b[33mAdjustments\u001b[39m\u001b[33m'\u001b[39m)\n\u001b[32m     21\u001b[39m     \u001b[38;5;66;03m# Map trackbar values to alpha (contrast) and beta (brightness)\u001b[39;00m\n",
      "\u001b[31merror\u001b[39m: OpenCV(4.11.0) D:\\a\\opencv-python\\opencv-python\\opencv\\modules\\highgui\\src\\window_w32.cpp:2564: error: (-27:Null pointer) NULL window: 'Adjustments' in function 'cvGetTrackbarPos'\n"
     ]
    }
   ],
   "source": [
    "import cv2\n",
    "import numpy as np\n",
    "\n",
    "# Load an image (replace with your image path)\n",
    "image = cv2.imread('C:/Users/ASUS/Downloads/rose.jpg')\n",
    "if image is None:\n",
    "    raise FileNotFoundError(\"Image not found. Please check the path.\")\n",
    "\n",
    "# Create a window\n",
    "cv2.namedWindow('Adjustments')\n",
    "\n",
    "# Create trackbars for contrast and brightness\n",
    "cv2.createTrackbar('Contrast x10', 'Adjustments', 10, 30, lambda x: None)  # 1.0 to 3.0\n",
    "cv2.createTrackbar('Brightness', 'Adjustments', 100, 200, lambda x: None)  # -100 to +100\n",
    "\n",
    "while True:\n",
    "    # Get current positions of the trackbars\n",
    "    contrast_value = cv2.getTrackbarPos('Contrast x10', 'Adjustments')\n",
    "    brightness_value = cv2.getTrackbarPos('Brightness', 'Adjustments')\n",
    "\n",
    "    # Map trackbar values to alpha (contrast) and beta (brightness)\n",
    "    alpha = contrast_value / 10.0     # Contrast (1.0–3.0)\n",
    "    beta = brightness_value - 100     # Brightness (-100–100)\n",
    "\n",
    "    # Apply the contrast and brightness adjustments\n",
    "    adjusted = cv2.convertScaleAbs(image, alpha=alpha, beta=beta)\n",
    "\n",
    "    # Show the adjusted image\n",
    "    cv2.imshow('Adjustments', adjusted)\n",
    "\n",
    "    # Press ESC to exit\n",
    "    if cv2.waitKey(1) & 0xFF == 27:\n",
    "        break\n",
    "\n",
    "cv2.destroyAllWindows()\n"
   ]
  },
  {
   "cell_type": "code",
   "execution_count": null,
   "id": "76a666ca-4742-4351-aa93-dfba19601f58",
   "metadata": {},
   "outputs": [],
   "source": []
  }
 ],
 "metadata": {
  "kernelspec": {
   "display_name": "Python 3 (ipykernel)",
   "language": "python",
   "name": "python3"
  },
  "language_info": {
   "codemirror_mode": {
    "name": "ipython",
    "version": 3
   },
   "file_extension": ".py",
   "mimetype": "text/x-python",
   "name": "python",
   "nbconvert_exporter": "python",
   "pygments_lexer": "ipython3",
   "version": "3.13.2"
  }
 },
 "nbformat": 4,
 "nbformat_minor": 5
}
